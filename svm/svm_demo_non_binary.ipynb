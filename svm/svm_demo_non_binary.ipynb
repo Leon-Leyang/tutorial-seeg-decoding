{
 "cells": [
  {
   "cell_type": "code",
   "execution_count": 2,
   "metadata": {},
   "outputs": [],
   "source": [
    "import time\n",
    "import os\n",
    "import sys\n",
    "sys.path.append(\"../dataset\")\n",
    "import numpy as np\n",
    "from torch.utils.data import Dataset, DataLoader\n",
    "from sklearn.model_selection import train_test_split\n",
    "from sklearn.svm import SVC\n",
    "from sklearn.metrics import accuracy_score\n",
    "from sklearn.preprocessing import StandardScaler\n",
    "from sklearn.svm import SVC\n",
    "from sklearn.metrics import accuracy_score\n",
    "from sklearn.multiclass import OneVsRestClassifier\n",
    "from sklearn.svm import SVC\n",
    "from sklearn.model_selection import train_test_split\n",
    "from sklearn.metrics import accuracy_score, hamming_loss\n",
    "import numpy as np\n",
    "#from ...dataset.multi_label_dataset import MultiLabelDataset\n",
    "\n",
    "from multi_label_dataset import MultiLabelDataset"
   ]
  },
  {
   "cell_type": "code",
   "execution_count": 3,
   "metadata": {},
   "outputs": [
    {
     "name": "stdout",
     "output_type": "stream",
     "text": [
      "Initialized train dataset with 5144 samples\n",
      "Initialized val dataset with 1103 samples\n",
      "Initialized test dataset with 1103 samples\n"
     ]
    }
   ],
   "source": [
    "\n",
    "seeg_file = '../../data/new_downsampled_seeg.npy'\n",
    "label_folder = '../../data/presence_of_faces/'\n",
    "train_ratio = 0.7\n",
    "test_ratio = 0.15\n",
    "train_dataset =MultiLabelDataset(seeg_file=seeg_file, label_folder=label_folder, split='train', train_ratio=train_ratio,\n",
    "                                    test_ratio=test_ratio)\n",
    "val_dataset = MultiLabelDataset(seeg_file=seeg_file, label_folder=label_folder, split='val', train_ratio=train_ratio,\n",
    "                                    test_ratio=test_ratio)\n",
    "test_dataset = MultiLabelDataset(seeg_file=seeg_file, label_folder=label_folder, split='test', train_ratio=train_ratio,\n",
    "                                    test_ratio=test_ratio)\n",
    "\n"
   ]
  },
  {
   "cell_type": "code",
   "execution_count": 4,
   "metadata": {},
   "outputs": [],
   "source": [
    "seeg_train, label_train = train_dataset.seeg_data, train_dataset.label_data\n",
    "seeg_test, label_test = test_dataset.seeg_data, test_dataset.label_data\n"
   ]
  },
  {
   "cell_type": "markdown",
   "metadata": {},
   "source": [
    "### Load the sEEG data, its shape is (number_of_electrode, samples_recorded), (84, 7526347)"
   ]
  },
  {
   "cell_type": "markdown",
   "metadata": {},
   "source": [
    "### A single second of SEEG data contains 1024 samples. We will segment the SEEG data into one-second intervals. Any portion of the SEEG data that does not comprise a complete one-second segment will be excluded from analysis."
   ]
  },
  {
   "cell_type": "markdown",
   "metadata": {},
   "source": [
    "### Truncate the face labels to match the duration of sEEG data"
   ]
  },
  {
   "cell_type": "markdown",
   "metadata": {},
   "source": [
    "### Perform SVM  to do the classfication between characters \n",
    "In order to compare the accuracy with DNN, we also split the data into 70% traning, 15% testing and 15% validation, although 15% validation is not used."
   ]
  },
  {
   "cell_type": "code",
   "execution_count": 19,
   "metadata": {},
   "outputs": [],
   "source": [
    "# First split: 70% training, 30% temp (which will be split into test and validation)\n",
    "X_train, X_temp, y_train, y_temp = train_test_split(flattened_data, truncated_face_labels.T, test_size=0.3, random_state=42)\n",
    "\n",
    "# Second split: Split the temp data into test and validation (50% each of the temp data)\n",
    "X_test, X_val, y_test, y_val = train_test_split(X_temp, y_temp, test_size=0.5, random_state=42)\n",
    "\n",
    "# Now, X_train, y_train are our training sets (70% of the data)\n",
    "# X_test, y_test are our test sets (15% of the data)\n",
    "# X_val, y_val are our validation sets (15% of the data)\n",
    "\n",
    "# Standardize the data\n",
    "scaler = StandardScaler()\n",
    "X_train = scaler.fit_transform(X_train)\n",
    "X_test = scaler.transform(X_test)\n",
    "X_val = scaler.transform(X_val)"
   ]
  },
  {
   "cell_type": "code",
   "execution_count": 5,
   "metadata": {},
   "outputs": [],
   "source": [
    "X_train = seeg_train.reshape(seeg_train.shape[0],-1)\n",
    "y_train = label_train\n",
    "X_test = seeg_test.reshape(seeg_test.shape[0],-1)\n",
    "y_test = label_test"
   ]
  },
  {
   "cell_type": "code",
   "execution_count": 6,
   "metadata": {},
   "outputs": [
    {
     "data": {
      "text/plain": [
       "(1103, 86016)"
      ]
     },
     "execution_count": 6,
     "metadata": {},
     "output_type": "execute_result"
    }
   ],
   "source": [
    "X_test.shape"
   ]
  },
  {
   "cell_type": "code",
   "execution_count": 7,
   "metadata": {},
   "outputs": [],
   "source": [
    "# Standardize the data\n",
    "scaler = StandardScaler()\n",
    "X_train = scaler.fit_transform(X_train)\n",
    "X_test = scaler.transform(X_test)"
   ]
  },
  {
   "cell_type": "code",
   "execution_count": 8,
   "metadata": {},
   "outputs": [],
   "source": [
    "\n",
    "# Choose a base estimator\n",
    "base_estimator = SVC(probability=True,class_weight =\"balanced\")\n",
    "\n",
    "# OneVsRestClassifier\n",
    "ovr_classifier = OneVsRestClassifier(base_estimator)\n",
    "\n",
    "# Train the model\n",
    "ovr_classifier.fit(X_train, y_train)\n",
    "\n",
    "# Predictions\n",
    "y_pred = ovr_classifier.predict(X_test)\n",
    "\n",
    "# Evaluation\n",
    "accuracy = accuracy_score(y_test, y_pred)\n",
    "hamming = hamming_loss(y_test, y_pred)\n",
    "\n",
    "print(\"Accuracy:\", accuracy)\n",
    "print(\"Hamming Loss:\", hamming)\n"
   ]
  }
 ],
 "metadata": {
  "kernelspec": {
   "display_name": "Python 3 (ipykernel)",
   "language": "python",
   "name": "python3"
  },
  "language_info": {
   "codemirror_mode": {
    "name": "ipython",
    "version": 3
   },
   "file_extension": ".py",
   "mimetype": "text/x-python",
   "name": "python",
   "nbconvert_exporter": "python",
   "pygments_lexer": "ipython3",
   "version": "3.9.18"
  }
 },
 "nbformat": 4,
 "nbformat_minor": 4
}
