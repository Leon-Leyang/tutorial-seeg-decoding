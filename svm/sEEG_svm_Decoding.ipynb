{
 "cells": [
  {
   "cell_type": "markdown",
   "metadata": {
    "id": "XlN5wnXOvb8g"
   },
   "source": [
    "# sEEG Decoding Tutorial"
   ]
  },
  {
   "cell_type": "markdown",
   "metadata": {
    "id": "bu16LZ9kDYpp"
   },
   "source": [
    "## We have 84 electrodes/contacts for this current sEEG data set. It is recorded in 1024Hz. To remove the noise, and make our analysis more quick and easy, we downsampled it to 90Hz.\n",
    "\n",
    "\n"
   ]
  },
  {
   "cell_type": "code",
   "execution_count": null,
   "metadata": {
    "id": "Yp7Rvo6cveLQ"
   },
   "outputs": [],
   "source": []
  },
  {
   "cell_type": "code",
   "execution_count": 20,
   "metadata": {
    "id": "zMUMlm1S_zaY"
   },
   "outputs": [],
   "source": [
    "import time\n",
    "import os\n",
    "import numpy as np\n",
    "import sys\n",
    "sys.path.append(\"../dataset\")\n",
    "from torch.utils.data import Dataset, DataLoader\n",
    "from sklearn.model_selection import train_test_split\n",
    "from sklearn.svm import SVC\n",
    "from sklearn.metrics import accuracy_score\n",
    "from sklearn.preprocessing import StandardScaler\n",
    "from sklearn.svm import SVC\n",
    "from sklearn.metrics import accuracy_score\n",
    "from binary_label_dataset import BinaryLabelDataset"
   ]
  },
  {
   "cell_type": "markdown",
   "metadata": {
    "id": "2nwWMDZ2_8Ht"
   },
   "source": [
    "### Load the sEEG data, its shape is (number_of_electrode, samples_recorded)\n",
    "### Load the face labels for character Tony. Each second consists of 30 frames. Our labeling criterion is based on the presence of Tony: if equal or more than 20 frames within a single second feature Tony, we label this second as '1'. If equal or less than 10 frames within a single second feature Tony, we label it as \"0. Otherwise we drop the data."
   ]
  },
  {
   "cell_type": "code",
   "execution_count": 24,
   "metadata": {
    "id": "tudBIDRD_-w2"
   },
   "outputs": [
    {
     "name": "stdout",
     "output_type": "stream",
     "text": [
      "Initialized train dataset with 4454 samples\n",
      "Initialized val dataset with 956 samples\n",
      "Initialized test dataset with 954 samples\n"
     ]
    }
   ],
   "source": [
    "\n",
    "seeg_file = '../../data/downsampled_seeg.npy'\n",
    "label_file = '../../data/seconds_with_Tony200.npy'\n",
    "#In order to compare the accuracy with DNN, we also split the data into 70% traning, 15% testing and 15% validation, although 15% validation is not used.\n",
    "train_ratio = 0.7\n",
    "test_ratio = 0.15\n",
    "train_dataset =BinaryLabelDataset(seeg_file=seeg_file, label_file=label_file, split='train', train_ratio=train_ratio,\n",
    "                                    test_ratio=test_ratio)\n",
    "val_dataset = BinaryLabelDataset(seeg_file=seeg_file, label_file=label_file, split='val', train_ratio=train_ratio,\n",
    "                                    test_ratio=test_ratio)\n",
    "test_dataset = BinaryLabelDataset(seeg_file=seeg_file, label_file=label_file, split='test', train_ratio=train_ratio,\n",
    "                                    test_ratio=test_ratio)\n",
    "\n"
   ]
  },
  {
   "cell_type": "code",
   "execution_count": 25,
   "metadata": {
    "id": "lXwhxB7iABId"
   },
   "outputs": [],
   "source": [
    "seeg_train, label_train = train_dataset.seeg_data, train_dataset.label_data\n",
    "seeg_test, label_test = test_dataset.seeg_data, test_dataset.label_data"
   ]
  },
  {
   "cell_type": "code",
   "execution_count": 26,
   "metadata": {},
   "outputs": [
    {
     "data": {
      "text/plain": [
       "(4454, 84, 90)"
      ]
     },
     "execution_count": 26,
     "metadata": {},
     "output_type": "execute_result"
    }
   ],
   "source": [
    "seeg_train.shape"
   ]
  },
  {
   "cell_type": "code",
   "execution_count": 27,
   "metadata": {},
   "outputs": [
    {
     "data": {
      "text/plain": [
       "(4454,)"
      ]
     },
     "execution_count": 27,
     "metadata": {},
     "output_type": "execute_result"
    }
   ],
   "source": [
    "label_train.shape\n"
   ]
  },
  {
   "cell_type": "code",
   "execution_count": null,
   "metadata": {},
   "outputs": [],
   "source": []
  },
  {
   "cell_type": "code",
   "execution_count": 28,
   "metadata": {
    "id": "0jEvJjQuAFGW"
   },
   "outputs": [],
   "source": [
    "#Reshape the data to fit the SVM pipeline\n",
    "X_train = seeg_train.reshape(seeg_train.shape[0],-1)\n",
    "y_train = label_train\n",
    "X_test = seeg_test.reshape(seeg_test.shape[0],-1)\n",
    "y_test = label_test"
   ]
  },
  {
   "cell_type": "code",
   "execution_count": 29,
   "metadata": {
    "id": "pvWZx3t5AHNm"
   },
   "outputs": [],
   "source": [
    "# Standardize the data\n",
    "scaler = StandardScaler()\n",
    "X_train = scaler.fit_transform(X_train)\n",
    "X_test = scaler.transform(X_test)"
   ]
  },
  {
   "cell_type": "markdown",
   "metadata": {
    "id": "FlY997OcAJXF"
   },
   "source": [
    "### Perform SVM to do the classfication between Tony and Non-Tony video segments.\n"
   ]
  },
  {
   "cell_type": "code",
   "execution_count": 30,
   "metadata": {
    "id": "xMxSWMPVAJ1s"
   },
   "outputs": [
    {
     "name": "stdout",
     "output_type": "stream",
     "text": [
      "Test Accuracy: 0.5335\n"
     ]
    }
   ],
   "source": [
    "\n",
    "# Train the SVM\n",
    "svm_model = SVC(kernel='linear')\n",
    "svm_model.fit(X_train, y_train)\n",
    "\n",
    "# Evaluate the Model\n",
    "y_pred = svm_model.predict(X_test)\n",
    "accuracy = accuracy_score(y_test, y_pred)\n",
    "print(f\"Test Accuracy: {accuracy:.4f}\")"
   ]
  },
  {
   "cell_type": "markdown",
   "metadata": {
    "id": "g86aL4DqAOvF"
   },
   "source": [
    "### Evaluate the SVM with different kernel and  c (Regularization Parameter)\n"
   ]
  },
  {
   "cell_type": "code",
   "execution_count": 31,
   "metadata": {
    "id": "E0dIE4luAMIl"
   },
   "outputs": [
    {
     "name": "stdout",
     "output_type": "stream",
     "text": [
      "Test Accuracy: 0.5042\n"
     ]
    }
   ],
   "source": [
    "# Train the SVM\n",
    "svm_model = SVC(C=0.001, kernel='linear')\n",
    "svm_model.fit(X_train, y_train)\n",
    "\n",
    "# Evaluate the Model\n",
    "y_pred = svm_model.predict(X_test)\n",
    "accuracy = accuracy_score(y_test, y_pred)\n",
    "print(f\"Test Accuracy: {accuracy:.4f}\")"
   ]
  },
  {
   "cell_type": "code",
   "execution_count": 32,
   "metadata": {
    "id": "8FEQJX6MAWgu"
   },
   "outputs": [
    {
     "name": "stdout",
     "output_type": "stream",
     "text": [
      "Test Accuracy: 0.5294\n"
     ]
    }
   ],
   "source": [
    "# Train the SVM\n",
    "svm_model = SVC(C=0.0001, kernel='linear')\n",
    "svm_model.fit(X_train, y_train)\n",
    "\n",
    "# Evaluate the Model\n",
    "y_pred = svm_model.predict(X_test)\n",
    "accuracy = accuracy_score(y_test, y_pred)\n",
    "print(f\"Test Accuracy: {accuracy:.4f}\")"
   ]
  },
  {
   "cell_type": "code",
   "execution_count": 33,
   "metadata": {},
   "outputs": [
    {
     "name": "stdout",
     "output_type": "stream",
     "text": [
      "Test Accuracy: 0.5881\n"
     ]
    }
   ],
   "source": [
    "# Train the SVM\n",
    "svm_model = SVC(C=0.001, kernel='poly')\n",
    "svm_model.fit(X_train, y_train)\n",
    "\n",
    "# Evaluate the Model\n",
    "y_pred = svm_model.predict(X_test)\n",
    "accuracy = accuracy_score(y_test, y_pred)\n",
    "print(f\"Test Accuracy: {accuracy:.4f}\")"
   ]
  },
  {
   "cell_type": "code",
   "execution_count": 34,
   "metadata": {},
   "outputs": [
    {
     "name": "stdout",
     "output_type": "stream",
     "text": [
      "Test Accuracy: 0.5881\n"
     ]
    }
   ],
   "source": [
    "# Train the SVM\n",
    "svm_model = SVC(C=0.0001, kernel='poly')\n",
    "svm_model.fit(X_train, y_train)\n",
    "\n",
    "# Evaluate the Model\n",
    "y_pred = svm_model.predict(X_test)\n",
    "accuracy = accuracy_score(y_test, y_pred)\n",
    "print(f\"Test Accuracy: {accuracy:.4f}\")"
   ]
  },
  {
   "cell_type": "code",
   "execution_count": null,
   "metadata": {},
   "outputs": [],
   "source": []
  }
 ],
 "metadata": {
  "colab": {
   "provenance": []
  },
  "kernelspec": {
   "display_name": "Python 3 (ipykernel)",
   "language": "python",
   "name": "python3"
  },
  "language_info": {
   "codemirror_mode": {
    "name": "ipython",
    "version": 3
   },
   "file_extension": ".py",
   "mimetype": "text/x-python",
   "name": "python",
   "nbconvert_exporter": "python",
   "pygments_lexer": "ipython3",
   "version": "3.9.12"
  }
 },
 "nbformat": 4,
 "nbformat_minor": 4
}
